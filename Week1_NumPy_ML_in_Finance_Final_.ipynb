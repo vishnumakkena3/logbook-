{
  "cells": [
    {
      "cell_type": "markdown",
      "metadata": {
        "id": "GOXeYKZnJ73Z"
      },
      "source": [
        "<html> <h1 style=\"font-style:bold; color:blue;\"> Machine Learning in Finance </h1> </html>"
      ]
    },
    {
      "cell_type": "markdown",
      "metadata": {
        "id": "9vNyIBLLJ73a"
      },
      "source": [
        "<html> <h1 style=\"font-style:italic; color:blue;\"> Week-1 </h1> </html>\n"
      ]
    },
    {
      "cell_type": "code",
      "execution_count": null,
      "metadata": {
        "id": "pCMCof3pJ73a"
      },
      "outputs": [],
      "source": []
    },
    {
      "cell_type": "markdown",
      "metadata": {
        "id": "dabTzMsvJ73a"
      },
      "source": [
        "# NumPy\n",
        "\n",
        "The main python library used in numerical data analysis is NumPy (or Numpy). It is a Linear Algebra Library for Python.  It is a very important library for Data Science with Python mainly because Numpy is incredibly fast, as it has bindings to C libraries.\n",
        "\n",
        "It provides a high-performance multidimensional array object, and tools for working with these arrays.\n",
        "\n",
        "This practical gives only an introduction to Numpy."
      ]
    },
    {
      "cell_type": "markdown",
      "metadata": {
        "id": "jtovuXq4J73a"
      },
      "source": [
        "## Installation NumPy\n",
        "\n",
        "**In the case of using the Anaconda distribution, the Numpay has already been installed. If you have any problem with Numpay functionality, it is highly recommended to re-install Numpay using the following command:**\n",
        "    \n",
        "    install numpy\n"
      ]
    },
    {
      "cell_type": "markdown",
      "metadata": {
        "id": "Z4XMcrdXJ73a"
      },
      "source": [
        "____________________________________________![image.png](attachment:d7dc4e19-f52e-4a93-b2f1-e4cd231d4be9.png)"
      ]
    },
    {
      "cell_type": "code",
      "execution_count": 1,
      "metadata": {
        "id": "-36hinWxJ73b"
      },
      "outputs": [],
      "source": [
        "import numpy as np"
      ]
    },
    {
      "cell_type": "code",
      "execution_count": null,
      "metadata": {
        "id": "ifwVnHH2J73b"
      },
      "outputs": [],
      "source": []
    },
    {
      "cell_type": "markdown",
      "metadata": {
        "id": "PNBcRuReJ73b"
      },
      "source": [
        "One of the most popular features of the Numpy library is the capability of operations with arrays of different sizes (or ranks).\n",
        "\n",
        "Dimensions of arrays:\n",
        "- vectors - One dimensional arrays,\n",
        "- matrices - Two dimensional arrays,\n",
        "- tensor - Three or more arrays."
      ]
    },
    {
      "cell_type": "markdown",
      "metadata": {
        "id": "-hbeVZkQJ73b"
      },
      "source": [
        "49.png![image.png](attachment:image.png)"
      ]
    },
    {
      "cell_type": "markdown",
      "metadata": {
        "id": "sPMgrhwGJ73b"
      },
      "source": [
        "____________________________________________![image.png](attachment:c8b0e131-8ac3-4605-b402-9cca1b5ba9d3.png)"
      ]
    },
    {
      "cell_type": "code",
      "execution_count": 2,
      "metadata": {
        "id": "7fi29iv5J73b"
      },
      "outputs": [],
      "source": [
        "a = np.array([1, 2, 3])"
      ]
    },
    {
      "cell_type": "code",
      "execution_count": 2,
      "metadata": {
        "id": "LdDeLzvrJ73b"
      },
      "outputs": [],
      "source": []
    },
    {
      "cell_type": "markdown",
      "metadata": {
        "id": "yxKYgnsLJ73c"
      },
      "source": [
        "____________________________________________![image.png](attachment:565f7ffe-ea75-4f62-b130-093f60e7e041.png)"
      ]
    },
    {
      "cell_type": "code",
      "execution_count": 3,
      "metadata": {
        "colab": {
          "base_uri": "https://localhost:8080/"
        },
        "id": "xSembWhCJ73c",
        "outputId": "a4e4dfa5-ee62-4e14-b0d7-98a6de034cd5"
      },
      "outputs": [
        {
          "output_type": "stream",
          "name": "stdout",
          "text": [
            "<class 'numpy.ndarray'>\n",
            "(3,)\n"
          ]
        }
      ],
      "source": [
        "print(type(a))\n",
        "print(a.shape)"
      ]
    },
    {
      "cell_type": "code",
      "execution_count": null,
      "metadata": {
        "id": "5TThbo7uJ73c",
        "outputId": "a70efde5-6eeb-49ad-96d7-bb687b2bec65"
      },
      "outputs": [
        {
          "name": "stdout",
          "output_type": "stream",
          "text": [
            "<class 'numpy.ndarray'>\n",
            "(3,)\n"
          ]
        }
      ],
      "source": []
    },
    {
      "cell_type": "markdown",
      "metadata": {
        "id": "3A_PpFJvJ73c"
      },
      "source": [
        "____________________________________________![image.png](attachment:cd442ab7-487e-4b31-ab69-0177198e683e.png)"
      ]
    },
    {
      "cell_type": "code",
      "execution_count": 4,
      "metadata": {
        "colab": {
          "base_uri": "https://localhost:8080/"
        },
        "id": "0ifBMEy_J73c",
        "outputId": "1cfe8dcc-61ce-4339-c7a8-60081f425d2e"
      },
      "outputs": [
        {
          "output_type": "stream",
          "name": "stdout",
          "text": [
            "1 2 3\n",
            "[1 2 3]\n"
          ]
        }
      ],
      "source": [
        "print(a[0], a[1], a[2])\n",
        "print(a)"
      ]
    },
    {
      "cell_type": "code",
      "execution_count": null,
      "metadata": {
        "id": "aBBM95cCJ73c",
        "outputId": "0fb22579-0a42-4b37-9ff2-6f0da749275f"
      },
      "outputs": [
        {
          "name": "stdout",
          "output_type": "stream",
          "text": [
            "1 2 3\n",
            "[1 2 3]\n"
          ]
        }
      ],
      "source": []
    },
    {
      "cell_type": "markdown",
      "metadata": {
        "id": "kaI487P_J73c"
      },
      "source": [
        "____________________________________________![image.png](attachment:8acae197-093e-403c-adaa-e2eefa1cca1a.png)"
      ]
    },
    {
      "cell_type": "code",
      "execution_count": 5,
      "metadata": {
        "colab": {
          "base_uri": "https://localhost:8080/"
        },
        "id": "pohSt4NrJ73d",
        "outputId": "687ebd3f-7420-4348-de75-87cc8fdcba94"
      },
      "outputs": [
        {
          "output_type": "stream",
          "name": "stdout",
          "text": [
            "[5 2 3]\n"
          ]
        }
      ],
      "source": [
        "a[0] = 5\n",
        "print(a)"
      ]
    },
    {
      "cell_type": "code",
      "execution_count": null,
      "metadata": {
        "id": "LmHDf0UfJ73d",
        "outputId": "d0fd4dd1-2c83-4430-c1d5-67c9ab1c9bb7"
      },
      "outputs": [
        {
          "name": "stdout",
          "output_type": "stream",
          "text": [
            "[5 2 3]\n"
          ]
        }
      ],
      "source": []
    },
    {
      "cell_type": "markdown",
      "metadata": {
        "id": "RYsRyEuKJ73d"
      },
      "source": [
        "____________________________________________![image.png](attachment:f676ad92-bb1d-49c6-bff6-e4aca2174453.png)"
      ]
    },
    {
      "cell_type": "code",
      "execution_count": 6,
      "metadata": {
        "colab": {
          "base_uri": "https://localhost:8080/"
        },
        "id": "SGMCigALJ73d",
        "outputId": "6f3fe89f-469a-4c58-966b-e2c29eb08384"
      },
      "outputs": [
        {
          "output_type": "execute_result",
          "data": {
            "text/plain": [
              "array([[1, 2, 3],\n",
              "       [4, 5, 6]])"
            ]
          },
          "metadata": {},
          "execution_count": 6
        }
      ],
      "source": [
        "b = np.array([[1,2,3],[4,5,6]])\n",
        "b"
      ]
    },
    {
      "cell_type": "code",
      "execution_count": 6,
      "metadata": {
        "id": "YAsw-wLpJ73d"
      },
      "outputs": [],
      "source": []
    },
    {
      "cell_type": "markdown",
      "metadata": {
        "id": "HXjfwvufJ73d"
      },
      "source": [
        "____________________________________________![image.png](attachment:193cd9e0-7861-4552-9ac9-237f88534427.png)"
      ]
    },
    {
      "cell_type": "code",
      "execution_count": 7,
      "metadata": {
        "colab": {
          "base_uri": "https://localhost:8080/"
        },
        "id": "dl1dUH8cJ73d",
        "outputId": "f5279e5c-edcd-4fe7-ccce-78519ce086e0"
      },
      "outputs": [
        {
          "output_type": "stream",
          "name": "stdout",
          "text": [
            "4\n"
          ]
        }
      ],
      "source": [
        "print(b[1,0])"
      ]
    },
    {
      "cell_type": "code",
      "execution_count": null,
      "metadata": {
        "id": "eS8MUfFmJ73d",
        "outputId": "e559b3fc-3680-48d7-eefb-aa9b1deaf88e"
      },
      "outputs": [
        {
          "name": "stdout",
          "output_type": "stream",
          "text": [
            "4\n"
          ]
        }
      ],
      "source": []
    },
    {
      "cell_type": "code",
      "execution_count": null,
      "metadata": {
        "id": "BHFH6Xg-J73d"
      },
      "outputs": [],
      "source": []
    },
    {
      "cell_type": "markdown",
      "metadata": {
        "id": "-e149sUAJ73e"
      },
      "source": [
        "### arange\n",
        "\n",
        "The arange() method is used to return an evenly spaced values within a given interval.\n",
        "The method has the following parameters:\n",
        "- **start** parameter (inclusive in the sequence)  \n",
        "- **end** parameter (exclusive in the sequence)\n",
        "- **step size** (optional parameter used to find the next element in the sequence)\n"
      ]
    },
    {
      "cell_type": "markdown",
      "metadata": {
        "id": "-WQTyJDHJ73e"
      },
      "source": [
        "____________________________________________![image.png](attachment:be72cd71-324f-4b2f-a9eb-9f58864ee035.png)"
      ]
    },
    {
      "cell_type": "code",
      "execution_count": 8,
      "metadata": {
        "colab": {
          "base_uri": "https://localhost:8080/"
        },
        "id": "671RMP5_J73e",
        "outputId": "5778c283-9749-44f6-8137-f61e3f97cc7c"
      },
      "outputs": [
        {
          "output_type": "execute_result",
          "data": {
            "text/plain": [
              "array([10, 11, 12, 13, 14, 15, 16, 17, 18, 19])"
            ]
          },
          "metadata": {},
          "execution_count": 8
        }
      ],
      "source": [
        "np.arange(10,20)"
      ]
    },
    {
      "cell_type": "code",
      "execution_count": null,
      "metadata": {
        "id": "qdNueljDJ73e",
        "outputId": "bb826954-b4c4-4ba1-d939-777c0028a7d4"
      },
      "outputs": [
        {
          "data": {
            "text/plain": [
              "array([10, 11, 12, 13, 14, 15, 16, 17, 18, 19])"
            ]
          },
          "execution_count": 21,
          "metadata": {},
          "output_type": "execute_result"
        }
      ],
      "source": []
    },
    {
      "cell_type": "markdown",
      "metadata": {
        "id": "lI2h81gzJ73e"
      },
      "source": [
        "____________________________________________![image.png](attachment:793515fa-88f9-471d-bb3d-6b28e65a20c1.png)"
      ]
    },
    {
      "cell_type": "code",
      "execution_count": 9,
      "metadata": {
        "colab": {
          "base_uri": "https://localhost:8080/"
        },
        "id": "TRHpVOItJ73e",
        "outputId": "a608a5bb-7eb2-4946-bdda-aee7854c97ae"
      },
      "outputs": [
        {
          "output_type": "execute_result",
          "data": {
            "text/plain": [
              "array([30, 27, 24, 21, 18, 15, 12,  9,  6,  3])"
            ]
          },
          "metadata": {},
          "execution_count": 9
        }
      ],
      "source": [
        "np.arange(30,1,-3)"
      ]
    },
    {
      "cell_type": "code",
      "execution_count": null,
      "metadata": {
        "id": "0heVEvHbJ73e",
        "outputId": "910c83c8-6e6c-4f09-a5b8-28067fc52e20"
      },
      "outputs": [
        {
          "data": {
            "text/plain": [
              "array([30, 27, 24, 21, 18, 15, 12,  9,  6,  3])"
            ]
          },
          "execution_count": 23,
          "metadata": {},
          "output_type": "execute_result"
        }
      ],
      "source": []
    },
    {
      "cell_type": "code",
      "execution_count": null,
      "metadata": {
        "id": "NWjwHipiJ73e"
      },
      "outputs": [],
      "source": []
    },
    {
      "cell_type": "markdown",
      "metadata": {
        "id": "QIHQ2-MtJ73e"
      },
      "source": [
        "<html> <h3 style=\"font-style:italic; color:blue;\"> Let us compare the performance of Numpay and Python arrays. </h3> </html>"
      ]
    },
    {
      "cell_type": "code",
      "execution_count": null,
      "metadata": {
        "id": "3fFgSqZwJ73f"
      },
      "outputs": [],
      "source": [
        "# timeit - executes the code several times and gives statistics."
      ]
    },
    {
      "cell_type": "markdown",
      "metadata": {
        "id": "Vqynv3sIJ73i"
      },
      "source": [
        "#### Now just press 'CTRL' and 'ENTER' keys on the next cells."
      ]
    },
    {
      "cell_type": "code",
      "execution_count": 11,
      "metadata": {
        "id": "3PwvdTUzJ73i",
        "outputId": "d640e286-e5d5-46f5-9581-e06737d33890",
        "colab": {
          "base_uri": "https://localhost:8080/"
        }
      },
      "outputs": [
        {
          "output_type": "stream",
          "name": "stdout",
          "text": [
            "771 ns ± 225 ns per loop (mean ± std. dev. of 7 runs, 1000000 loops each)\n"
          ]
        }
      ],
      "source": [
        "%timeit np.arange(0, 39)"
      ]
    },
    {
      "cell_type": "code",
      "execution_count": null,
      "metadata": {
        "id": "KTF5DxxpJ73i",
        "outputId": "f482a6d8-b5de-4649-b9ce-f8c0ec75c3ec"
      },
      "outputs": [
        {
          "name": "stdout",
          "output_type": "stream",
          "text": [
            "84 ns ± 0.836 ns per loop (mean ± std. dev. of 7 runs, 10,000,000 loops each)\n"
          ]
        }
      ],
      "source": [
        "%timeit range(0, 1000)"
      ]
    },
    {
      "cell_type": "code",
      "execution_count": null,
      "metadata": {
        "id": "-wC41vxmJ73i"
      },
      "outputs": [],
      "source": []
    },
    {
      "cell_type": "markdown",
      "metadata": {
        "id": "Meqx_j7FJ73j"
      },
      "source": [
        "<html> <h3 style=\"color:blue;\"> Numpy also provides many functions to create arrays </h3> </html>"
      ]
    },
    {
      "cell_type": "markdown",
      "metadata": {
        "id": "DqmLPgN9J73j"
      },
      "source": [
        "____________________________________________![image.png](attachment:5644d1a1-af6f-499a-8b57-56e2b163cf07.png)"
      ]
    },
    {
      "cell_type": "code",
      "execution_count": 12,
      "metadata": {
        "colab": {
          "base_uri": "https://localhost:8080/"
        },
        "id": "xOmQaP4vJ73j",
        "outputId": "b2ffc686-9ea8-4e55-d4ac-21abc4a1fa30"
      },
      "outputs": [
        {
          "output_type": "execute_result",
          "data": {
            "text/plain": [
              "array([[0., 0.],\n",
              "       [0., 0.]])"
            ]
          },
          "metadata": {},
          "execution_count": 12
        }
      ],
      "source": [
        "a = np.zeros((2,2))\n",
        "a"
      ]
    },
    {
      "cell_type": "code",
      "execution_count": null,
      "metadata": {
        "id": "r4yb_WOKJ73j",
        "outputId": "c4c83bc6-7035-4882-c8af-93613ca521f4"
      },
      "outputs": [
        {
          "data": {
            "text/plain": [
              "array([[0., 0.],\n",
              "       [0., 0.]])"
            ]
          },
          "execution_count": 29,
          "metadata": {},
          "output_type": "execute_result"
        }
      ],
      "source": []
    },
    {
      "cell_type": "markdown",
      "metadata": {
        "id": "0nexp_S_J73j"
      },
      "source": [
        "____________________________________________![image.png](attachment:2b89ec2a-047e-4e58-9ca8-fcb0f4cb6b5b.png)"
      ]
    },
    {
      "cell_type": "code",
      "execution_count": 13,
      "metadata": {
        "colab": {
          "base_uri": "https://localhost:8080/"
        },
        "id": "N-pxvKAMJ73j",
        "outputId": "1f03fbeb-2eca-4f4f-e50c-a9d3895d439b"
      },
      "outputs": [
        {
          "output_type": "execute_result",
          "data": {
            "text/plain": [
              "array([[1., 1., 1., 1.],\n",
              "       [1., 1., 1., 1.],\n",
              "       [1., 1., 1., 1.]])"
            ]
          },
          "metadata": {},
          "execution_count": 13
        }
      ],
      "source": [
        "a = np.ones((3,4))\n",
        "a\n"
      ]
    },
    {
      "cell_type": "code",
      "execution_count": null,
      "metadata": {
        "id": "qofur2M5J73j",
        "outputId": "a14f3993-7477-47f7-84c5-b5c6c9137fbb"
      },
      "outputs": [
        {
          "data": {
            "text/plain": [
              "array([[1., 1., 1., 1.],\n",
              "       [1., 1., 1., 1.],\n",
              "       [1., 1., 1., 1.]])"
            ]
          },
          "execution_count": 31,
          "metadata": {},
          "output_type": "execute_result"
        }
      ],
      "source": []
    },
    {
      "cell_type": "markdown",
      "metadata": {
        "id": "oP6RbcniJ73j"
      },
      "source": [
        "____________________________________________![image.png](attachment:267a89d5-8030-4262-b0b8-6c744458ad89.png)"
      ]
    },
    {
      "cell_type": "code",
      "execution_count": 14,
      "metadata": {
        "colab": {
          "base_uri": "https://localhost:8080/"
        },
        "id": "b2sOxqWTJ73j",
        "outputId": "e6f01064-8ee9-4151-adfd-d6e0bbc4b876"
      },
      "outputs": [
        {
          "output_type": "execute_result",
          "data": {
            "text/plain": [
              "array([[1., 0., 0., 0.],\n",
              "       [0., 1., 0., 0.],\n",
              "       [0., 0., 1., 0.],\n",
              "       [0., 0., 0., 1.]])"
            ]
          },
          "metadata": {},
          "execution_count": 14
        }
      ],
      "source": [
        "np.eye(4)\n"
      ]
    },
    {
      "cell_type": "code",
      "execution_count": null,
      "metadata": {
        "id": "ChuHPF-rJ73j",
        "outputId": "71a6c558-7f4f-48f0-a0e5-8a76f47b4f93"
      },
      "outputs": [
        {
          "data": {
            "text/plain": [
              "array([[1., 0., 0., 0.],\n",
              "       [0., 1., 0., 0.],\n",
              "       [0., 0., 1., 0.],\n",
              "       [0., 0., 0., 1.]])"
            ]
          },
          "execution_count": 33,
          "metadata": {},
          "output_type": "execute_result"
        }
      ],
      "source": []
    },
    {
      "cell_type": "markdown",
      "metadata": {
        "id": "f6Z3UoPGJ73k"
      },
      "source": [
        "____________________________________________![image.png](attachment:339d2c8c-51d3-4874-9dd6-ccc57337eeb1.png)"
      ]
    },
    {
      "cell_type": "code",
      "execution_count": 15,
      "metadata": {
        "colab": {
          "base_uri": "https://localhost:8080/"
        },
        "id": "SsFU4IyoJ73k",
        "outputId": "05823191-cadd-48cc-ba64-3b5f399a1ad8"
      },
      "outputs": [
        {
          "output_type": "execute_result",
          "data": {
            "text/plain": [
              "array([[0.46053748, 0.12028586],\n",
              "       [0.11747604, 0.14310601]])"
            ]
          },
          "metadata": {},
          "execution_count": 15
        }
      ],
      "source": [
        "e = np.random.random((2,2))\n",
        "e"
      ]
    },
    {
      "cell_type": "code",
      "execution_count": null,
      "metadata": {
        "id": "2rzZD8gBJ73k",
        "outputId": "f537caca-fb93-4c3c-e743-e165beb2d392"
      },
      "outputs": [
        {
          "data": {
            "text/plain": [
              "array([[0.19249862, 0.99025753],\n",
              "       [0.15139398, 0.09978187]])"
            ]
          },
          "execution_count": 35,
          "metadata": {},
          "output_type": "execute_result"
        }
      ],
      "source": []
    },
    {
      "cell_type": "markdown",
      "metadata": {
        "id": "usVd4Y81J73k"
      },
      "source": [
        "____________________________________________![image.png](attachment:155cb7d7-48d9-4b79-a551-503d42cca2b9.png)"
      ]
    },
    {
      "cell_type": "code",
      "execution_count": 16,
      "metadata": {
        "colab": {
          "base_uri": "https://localhost:8080/"
        },
        "id": "Pz0fwhEwJ73k",
        "outputId": "64d7e473-ab10-4178-83d2-05a1380e8c9e"
      },
      "outputs": [
        {
          "output_type": "execute_result",
          "data": {
            "text/plain": [
              "array([ 0.,  2.,  4.,  6.,  8., 10., 12., 14., 16., 18., 20.])"
            ]
          },
          "metadata": {},
          "execution_count": 16
        }
      ],
      "source": [
        "np.linspace(0, 20, 11)"
      ]
    },
    {
      "cell_type": "code",
      "execution_count": null,
      "metadata": {
        "id": "vB2qFy-DJ73k",
        "outputId": "bd9a3e33-c1d1-443a-a32c-22bbe8031328"
      },
      "outputs": [
        {
          "data": {
            "text/plain": [
              "array([ 0.,  2.,  4.,  6.,  8., 10., 12., 14., 16., 18., 20.])"
            ]
          },
          "execution_count": 37,
          "metadata": {},
          "output_type": "execute_result"
        }
      ],
      "source": []
    },
    {
      "cell_type": "markdown",
      "metadata": {
        "id": "tgJSAUBCJ73k"
      },
      "source": [
        "____________________________________________![image.png](attachment:46117baf-57b3-493c-b73d-d3255b181220.png)"
      ]
    },
    {
      "cell_type": "code",
      "execution_count": 17,
      "metadata": {
        "colab": {
          "base_uri": "https://localhost:8080/"
        },
        "id": "sdjtbuRmJ73k",
        "outputId": "e6c13e3e-e235-428e-f884-be543dfd9404"
      },
      "outputs": [
        {
          "output_type": "execute_result",
          "data": {
            "text/plain": [
              "array([ 0.        ,  0.68965517,  1.37931034,  2.06896552,  2.75862069,\n",
              "        3.44827586,  4.13793103,  4.82758621,  5.51724138,  6.20689655,\n",
              "        6.89655172,  7.5862069 ,  8.27586207,  8.96551724,  9.65517241,\n",
              "       10.34482759, 11.03448276, 11.72413793, 12.4137931 , 13.10344828,\n",
              "       13.79310345, 14.48275862, 15.17241379, 15.86206897, 16.55172414,\n",
              "       17.24137931, 17.93103448, 18.62068966, 19.31034483, 20.        ])"
            ]
          },
          "metadata": {},
          "execution_count": 17
        }
      ],
      "source": [
        "np.linspace(0, 20, 30)"
      ]
    },
    {
      "cell_type": "code",
      "execution_count": null,
      "metadata": {
        "id": "o-VO7ObyJ73k",
        "outputId": "ea3b00e7-80d0-4ba7-a489-85f9dafaa130"
      },
      "outputs": [
        {
          "data": {
            "text/plain": [
              "array([ 0.        ,  0.68965517,  1.37931034,  2.06896552,  2.75862069,\n",
              "        3.44827586,  4.13793103,  4.82758621,  5.51724138,  6.20689655,\n",
              "        6.89655172,  7.5862069 ,  8.27586207,  8.96551724,  9.65517241,\n",
              "       10.34482759, 11.03448276, 11.72413793, 12.4137931 , 13.10344828,\n",
              "       13.79310345, 14.48275862, 15.17241379, 15.86206897, 16.55172414,\n",
              "       17.24137931, 17.93103448, 18.62068966, 19.31034483, 20.        ])"
            ]
          },
          "execution_count": 39,
          "metadata": {},
          "output_type": "execute_result"
        }
      ],
      "source": []
    },
    {
      "cell_type": "code",
      "execution_count": null,
      "metadata": {
        "id": "TA5HCnwSJ73l"
      },
      "outputs": [],
      "source": []
    },
    {
      "cell_type": "markdown",
      "metadata": {
        "id": "36c66LW7J73l"
      },
      "source": [
        "<html> <h3 style=\"color:blue;\"> Array Indexing </h3> </html>"
      ]
    },
    {
      "cell_type": "markdown",
      "metadata": {
        "id": "JhE-if4sJ73l"
      },
      "source": [
        "**Slicing:**\n",
        "    Similar to Python lists, numpy arrays can be sliced. Since arrays may be multidimensional, you must specify a slice for each dimension of the array:"
      ]
    },
    {
      "cell_type": "markdown",
      "metadata": {
        "id": "sETC_XTDJ73l"
      },
      "source": [
        "..................................................![image.png](attachment:11cabfa7-9787-4a3a-94d5-f27b5089bbea.png)"
      ]
    },
    {
      "cell_type": "code",
      "execution_count": 18,
      "metadata": {
        "colab": {
          "base_uri": "https://localhost:8080/"
        },
        "id": "ZYJ1Tw9LJ73l",
        "outputId": "9b29539c-0d31-463a-827d-b6241a843cfd"
      },
      "outputs": [
        {
          "output_type": "execute_result",
          "data": {
            "text/plain": [
              "array([[ 1,  2,  3,  4],\n",
              "       [ 5,  6,  7,  8],\n",
              "       [ 9, 10, 11, 12]])"
            ]
          },
          "metadata": {},
          "execution_count": 18
        }
      ],
      "source": [
        "a = np.array([[1,2,3,4],[5,6,7,8],[9,10,11,12]])\n",
        "a"
      ]
    },
    {
      "cell_type": "code",
      "execution_count": null,
      "metadata": {
        "id": "jmmcYIDZJ73l",
        "outputId": "5b4156a7-cae8-46c8-d598-48ebd16621da"
      },
      "outputs": [
        {
          "data": {
            "text/plain": [
              "array([[ 1,  2,  3,  4],\n",
              "       [ 5,  6,  7,  8],\n",
              "       [ 9, 10, 11, 12]])"
            ]
          },
          "execution_count": 41,
          "metadata": {},
          "output_type": "execute_result"
        }
      ],
      "source": []
    },
    {
      "cell_type": "markdown",
      "metadata": {
        "id": "cOIjHozNJ73l"
      },
      "source": [
        "____________________________________________![image.png](attachment:b4086256-1bbb-4e1c-820c-415d37eb11b2.png)"
      ]
    },
    {
      "cell_type": "code",
      "execution_count": 19,
      "metadata": {
        "colab": {
          "base_uri": "https://localhost:8080/"
        },
        "id": "MN46RnF0J73l",
        "outputId": "6d9a97ed-5cce-4c93-8cd4-57081a2911bc"
      },
      "outputs": [
        {
          "output_type": "execute_result",
          "data": {
            "text/plain": [
              "array([[2, 3],\n",
              "       [6, 7]])"
            ]
          },
          "metadata": {},
          "execution_count": 19
        }
      ],
      "source": [
        "b = a[:2,1:3]\n",
        "\n",
        "b"
      ]
    },
    {
      "cell_type": "code",
      "execution_count": null,
      "metadata": {
        "id": "71O43K0BJ73l",
        "outputId": "506de073-7283-434a-cb12-5ec024adf73f"
      },
      "outputs": [
        {
          "data": {
            "text/plain": [
              "array([[2, 3],\n",
              "       [6, 7]])"
            ]
          },
          "execution_count": 43,
          "metadata": {},
          "output_type": "execute_result"
        }
      ],
      "source": []
    },
    {
      "cell_type": "markdown",
      "metadata": {
        "id": "F04fmHldJ73m"
      },
      "source": [
        "____________________________________________![image.png](attachment:f3b12e40-eda9-467d-9711-d9b57f20f6ea.png)"
      ]
    },
    {
      "cell_type": "code",
      "execution_count": 20,
      "metadata": {
        "colab": {
          "base_uri": "https://localhost:8080/"
        },
        "id": "XD8SH9jjJ73m",
        "outputId": "c57e8306-641a-458a-f70a-edb6c35a56ac"
      },
      "outputs": [
        {
          "output_type": "stream",
          "name": "stdout",
          "text": [
            "2\n"
          ]
        }
      ],
      "source": [
        "print(a[0,1])"
      ]
    },
    {
      "cell_type": "code",
      "execution_count": null,
      "metadata": {
        "id": "78FNHlNcJ73m",
        "outputId": "3f55832f-a98e-4279-f510-cd1e5ac7f291"
      },
      "outputs": [
        {
          "name": "stdout",
          "output_type": "stream",
          "text": [
            "2\n"
          ]
        }
      ],
      "source": []
    },
    {
      "cell_type": "markdown",
      "metadata": {
        "id": "8GupHVZeJ73m"
      },
      "source": [
        "____________________________________________![image.png](attachment:3bf651f2-ee5c-4cf3-a41c-8bbfd13bd70f.png)"
      ]
    },
    {
      "cell_type": "code",
      "execution_count": 22,
      "metadata": {
        "id": "t4dPKMHpJ73m",
        "colab": {
          "base_uri": "https://localhost:8080/"
        },
        "outputId": "a18c358f-0fd8-4975-f938-7091f0f70a88"
      },
      "outputs": [
        {
          "output_type": "stream",
          "name": "stdout",
          "text": [
            "[[ 1 88  3  4]\n",
            " [ 5  6  7  8]\n",
            " [ 9 10 11 12]]\n"
          ]
        }
      ],
      "source": [
        "b[0,0] = 88\n",
        "print(a)"
      ]
    },
    {
      "cell_type": "code",
      "execution_count": null,
      "metadata": {
        "id": "b6dx4630J73m",
        "outputId": "53138b8d-c800-4a48-ae7a-441da21e2cb1"
      },
      "outputs": [
        {
          "name": "stdout",
          "output_type": "stream",
          "text": [
            "[[ 1 88  3  4]\n",
            " [ 5  6  7  8]\n",
            " [ 9 10 11 12]]\n"
          ]
        }
      ],
      "source": []
    },
    {
      "cell_type": "code",
      "execution_count": null,
      "metadata": {
        "id": "9T9mXswLJ73m"
      },
      "outputs": [],
      "source": []
    },
    {
      "cell_type": "markdown",
      "metadata": {
        "id": "Q6yRUtJ7J73m"
      },
      "source": [
        "<html> <h3 style=\"color:blue;\"> Datatypes </h3> </html>"
      ]
    },
    {
      "cell_type": "code",
      "source": [],
      "metadata": {
        "id": "1LHeXSbnUKTE"
      },
      "execution_count": null,
      "outputs": []
    },
    {
      "cell_type": "markdown",
      "metadata": {
        "id": "GS6Nw2O0J73m"
      },
      "source": [
        "Every NumPy array is a grid of elements of the **same type**. Numpy provides a large set of numeric datatypes that you can use to construct arrays. Numpy tries to guess a datatype when you create an array, but you can explicitly specify the type using an optional argument."
      ]
    },
    {
      "cell_type": "markdown",
      "metadata": {
        "id": "uSNWaqyGJ73m"
      },
      "source": [
        "____________________________________________![image.png](attachment:acf9492f-76d6-451f-90d6-f8af21190883.png)"
      ]
    },
    {
      "cell_type": "code",
      "execution_count": 23,
      "metadata": {
        "id": "0UBS29CkJ73n",
        "colab": {
          "base_uri": "https://localhost:8080/"
        },
        "outputId": "6ffb5976-6bb0-47c7-a9eb-1d1f7882017b"
      },
      "outputs": [
        {
          "output_type": "stream",
          "name": "stdout",
          "text": [
            "int64\n"
          ]
        }
      ],
      "source": [
        "x = np.array([1,2])\n",
        "print(x.dtype)"
      ]
    },
    {
      "cell_type": "code",
      "execution_count": null,
      "metadata": {
        "id": "BojgUB49J73n",
        "outputId": "966e593b-858e-4305-bc5a-ab4184956ccd"
      },
      "outputs": [
        {
          "name": "stdout",
          "output_type": "stream",
          "text": [
            "int32\n"
          ]
        }
      ],
      "source": []
    },
    {
      "cell_type": "markdown",
      "metadata": {
        "id": "dNXlHQHxJ73n"
      },
      "source": [
        "____________________________________________![image.png](attachment:abd5f58f-2ced-436f-bf31-f5455975721d.png)"
      ]
    },
    {
      "cell_type": "code",
      "execution_count": 24,
      "metadata": {
        "id": "0oBnA7gXJ73n",
        "colab": {
          "base_uri": "https://localhost:8080/"
        },
        "outputId": "fa33ca77-ad34-4f6f-d21b-f17014149ccd"
      },
      "outputs": [
        {
          "output_type": "stream",
          "name": "stdout",
          "text": [
            "float64\n"
          ]
        }
      ],
      "source": [
        "x = np.array([1.0,2.0])\n",
        "print(x.dtype)"
      ]
    },
    {
      "cell_type": "code",
      "execution_count": null,
      "metadata": {
        "id": "FIm9-tT9J73n",
        "outputId": "a86b562f-2b86-48d8-8d0a-c81a04310bbc"
      },
      "outputs": [
        {
          "name": "stdout",
          "output_type": "stream",
          "text": [
            "float64\n"
          ]
        }
      ],
      "source": []
    },
    {
      "cell_type": "markdown",
      "metadata": {
        "id": "x7lYTc21J73n"
      },
      "source": [
        "____________________________________________![image.png](attachment:cc855679-b5ab-4be8-859f-cbecf8a0fbba.png)"
      ]
    },
    {
      "cell_type": "code",
      "execution_count": 25,
      "metadata": {
        "id": "fdG2GLaHJ73n",
        "colab": {
          "base_uri": "https://localhost:8080/"
        },
        "outputId": "312efec9-c5d8-4564-d6a8-f9c9783a1061"
      },
      "outputs": [
        {
          "output_type": "stream",
          "name": "stdout",
          "text": [
            "int64\n"
          ]
        }
      ],
      "source": [
        "x = np.array([1,2], dtype=np.int64)\n",
        "print(x.dtype)"
      ]
    },
    {
      "cell_type": "code",
      "execution_count": null,
      "metadata": {
        "id": "FIhruFucJ73n",
        "outputId": "6025dc83-bdfc-481c-da63-319f7ff558fd"
      },
      "outputs": [
        {
          "name": "stdout",
          "output_type": "stream",
          "text": [
            "int64\n"
          ]
        }
      ],
      "source": []
    },
    {
      "cell_type": "code",
      "execution_count": null,
      "metadata": {
        "id": "pKg5hSioJ73n"
      },
      "outputs": [],
      "source": []
    },
    {
      "cell_type": "markdown",
      "metadata": {
        "id": "BEFXMb4SJ73n"
      },
      "source": [
        "<html> <h3 style=\"color:blue;\"> Array Math </h3> </html>"
      ]
    },
    {
      "cell_type": "code",
      "execution_count": null,
      "metadata": {
        "id": "VqLMyKf1J73o"
      },
      "outputs": [],
      "source": [
        "# Basic mathematical functions operate elementwise on arrays"
      ]
    },
    {
      "cell_type": "markdown",
      "metadata": {
        "id": "koX1a9fIJ73o"
      },
      "source": [
        ".....................................................![image.png](attachment:62b9a0d9-3d99-4b14-a8ad-3711111afd5f.png)"
      ]
    },
    {
      "cell_type": "markdown",
      "metadata": {
        "id": "v_4kBIPBJ73o"
      },
      "source": [
        "#### Now just press 'CTRL' and 'ENTER' keys on the next cell."
      ]
    },
    {
      "cell_type": "code",
      "execution_count": 26,
      "metadata": {
        "id": "9994guJZJ73o",
        "colab": {
          "base_uri": "https://localhost:8080/"
        },
        "outputId": "86295c90-bea4-44ce-f9fe-f8e57db98a32"
      },
      "outputs": [
        {
          "output_type": "stream",
          "name": "stdout",
          "text": [
            "[[1. 2.]\n",
            " [3. 4.]] \n",
            "\n",
            "[[5. 6.]\n",
            " [7. 8.]]\n"
          ]
        }
      ],
      "source": [
        "x = np.array([[1,2],[3,4]], dtype=np.float64)\n",
        "y = np.array([[5,6],[7,8]], dtype=np.float64)\n",
        "print(x, '\\n')       # '\\n' - Line break symbol\n",
        "print(y)"
      ]
    },
    {
      "cell_type": "code",
      "execution_count": null,
      "metadata": {
        "id": "W3C45LWTJ73o",
        "outputId": "0d99fc69-884b-44d9-8316-47fc6a3bb761"
      },
      "outputs": [
        {
          "name": "stdout",
          "output_type": "stream",
          "text": [
            "[[1. 2.]\n",
            " [3. 4.]] \n",
            "\n",
            "[[5. 6.]\n",
            " [7. 8.]]\n"
          ]
        }
      ],
      "source": []
    },
    {
      "cell_type": "markdown",
      "metadata": {
        "id": "j6oc-L8yJ73o"
      },
      "source": [
        "____________________________________________![image.png](attachment:c0c48780-516e-48fc-93be-796adc25d912.png)"
      ]
    },
    {
      "cell_type": "code",
      "execution_count": 27,
      "metadata": {
        "id": "tXaZyPsVJ73o",
        "colab": {
          "base_uri": "https://localhost:8080/"
        },
        "outputId": "576cd1f5-fbd0-4446-e4e0-8794e6172988"
      },
      "outputs": [
        {
          "output_type": "stream",
          "name": "stdout",
          "text": [
            "[[ 6.  8.]\n",
            " [10. 12.]]\n",
            "\n",
            "\n",
            "[[ 6.  8.]\n",
            " [10. 12.]]\n"
          ]
        }
      ],
      "source": [
        "print(x + y)\n",
        "print('\\n')\n",
        "print(np.add(x, y))"
      ]
    },
    {
      "cell_type": "code",
      "execution_count": null,
      "metadata": {
        "id": "JDP59grRJ73o",
        "outputId": "535be554-fd36-4e2e-ffc7-f63c6396b952"
      },
      "outputs": [
        {
          "name": "stdout",
          "output_type": "stream",
          "text": [
            "[[ 6.  8.]\n",
            " [10. 12.]]\n",
            "\n",
            "\n",
            "[[ 6.  8.]\n",
            " [10. 12.]]\n"
          ]
        }
      ],
      "source": []
    },
    {
      "cell_type": "markdown",
      "metadata": {
        "id": "Rt_rXosHJ73o"
      },
      "source": [
        "____________________________________________![image.png](attachment:07714d60-442c-4abd-b584-a8d7af18d9bb.png)"
      ]
    },
    {
      "cell_type": "code",
      "execution_count": 28,
      "metadata": {
        "id": "vi21AsScJ73p",
        "colab": {
          "base_uri": "https://localhost:8080/"
        },
        "outputId": "2a77607c-f34c-411f-d5d6-51e307d29878"
      },
      "outputs": [
        {
          "output_type": "stream",
          "name": "stdout",
          "text": [
            "[[-4. -4.]\n",
            " [-4. -4.]] \n",
            "\n",
            "[[-4. -4.]\n",
            " [-4. -4.]]\n"
          ]
        }
      ],
      "source": [
        "print(x - y,'\\n')\n",
        "print(np.subtract(x, y))"
      ]
    },
    {
      "cell_type": "code",
      "execution_count": null,
      "metadata": {
        "id": "GhymDEmzJ73p",
        "outputId": "0d48aaf3-7b40-40cd-bbd6-bf42ff2aad3e"
      },
      "outputs": [
        {
          "name": "stdout",
          "output_type": "stream",
          "text": [
            "[[-4. -4.]\n",
            " [-4. -4.]] \n",
            "\n",
            "[[-4. -4.]\n",
            " [-4. -4.]]\n"
          ]
        }
      ],
      "source": []
    },
    {
      "cell_type": "markdown",
      "metadata": {
        "id": "ZPX_WnANJ73p"
      },
      "source": [
        "____________________________________________![image.png](attachment:b6a795f3-e338-490f-a256-39a511082445.png)"
      ]
    },
    {
      "cell_type": "code",
      "execution_count": 29,
      "metadata": {
        "id": "3dZWHv-TJ73p",
        "colab": {
          "base_uri": "https://localhost:8080/"
        },
        "outputId": "cb86f113-6bef-49ac-9710-148a6901fdc7"
      },
      "outputs": [
        {
          "output_type": "stream",
          "name": "stdout",
          "text": [
            "[[ 5. 12.]\n",
            " [21. 32.]] \n",
            "\n",
            "[[ 5. 12.]\n",
            " [21. 32.]]\n"
          ]
        }
      ],
      "source": [
        "print(x * y,'\\n')\n",
        "print(np.multiply(x,y))"
      ]
    },
    {
      "cell_type": "code",
      "execution_count": null,
      "metadata": {
        "id": "GcEBWurnJ73p",
        "outputId": "cbd756f4-f6a9-4746-96df-56455efedbea"
      },
      "outputs": [
        {
          "name": "stdout",
          "output_type": "stream",
          "text": [
            "[[ 5. 12.]\n",
            " [21. 32.]] \n",
            "\n",
            "[[ 5. 12.]\n",
            " [21. 32.]]\n"
          ]
        }
      ],
      "source": []
    },
    {
      "cell_type": "markdown",
      "metadata": {
        "id": "vZCxxUYiJ73p"
      },
      "source": [
        "____________________________________________![image.png](attachment:3ad4361b-8759-4cf4-acda-29ef1b7d6ffc.png)"
      ]
    },
    {
      "cell_type": "code",
      "execution_count": 30,
      "metadata": {
        "id": "BhaQpY0dJ73p",
        "colab": {
          "base_uri": "https://localhost:8080/"
        },
        "outputId": "607fbbbd-0f2a-4bbd-c44d-038c8b2c6438"
      },
      "outputs": [
        {
          "output_type": "stream",
          "name": "stdout",
          "text": [
            "[[0.2        0.33333333]\n",
            " [0.42857143 0.5       ]] \n",
            "\n",
            "[[0.2        0.33333333]\n",
            " [0.42857143 0.5       ]]\n"
          ]
        }
      ],
      "source": [
        "print(x / y,'\\n')\n",
        "print(np.divide(x,y))"
      ]
    },
    {
      "cell_type": "code",
      "execution_count": null,
      "metadata": {
        "id": "obHSFo4nJ73p",
        "outputId": "18349e31-7359-4f7c-e4c4-22bb48184fa4"
      },
      "outputs": [
        {
          "name": "stdout",
          "output_type": "stream",
          "text": [
            "[[0.2        0.33333333]\n",
            " [0.42857143 0.5       ]]\n",
            "\n",
            "\n",
            "[[0.2        0.33333333]\n",
            " [0.42857143 0.5       ]]\n"
          ]
        }
      ],
      "source": []
    },
    {
      "cell_type": "markdown",
      "metadata": {
        "id": "rhFtAaH_J73p"
      },
      "source": [
        "____________________________________________![image.png](attachment:a6875e9c-4f66-42f3-a098-5d810431a65c.png)"
      ]
    },
    {
      "cell_type": "code",
      "execution_count": 31,
      "metadata": {
        "id": "cfM90O0OJ73p",
        "colab": {
          "base_uri": "https://localhost:8080/"
        },
        "outputId": "c57efb19-feab-4a69-ddab-f0a796f0249d"
      },
      "outputs": [
        {
          "output_type": "stream",
          "name": "stdout",
          "text": [
            "[[1.         1.41421356]\n",
            " [1.73205081 2.        ]]\n"
          ]
        }
      ],
      "source": [
        "print(np.sqrt(x))"
      ]
    },
    {
      "cell_type": "code",
      "execution_count": null,
      "metadata": {
        "id": "4z3lzOX8J73q",
        "outputId": "5fe2117f-c00c-4b27-f41c-cf8805197089"
      },
      "outputs": [
        {
          "name": "stdout",
          "output_type": "stream",
          "text": [
            "[[1.         1.41421356]\n",
            " [1.73205081 2.        ]]\n"
          ]
        }
      ],
      "source": []
    },
    {
      "cell_type": "markdown",
      "metadata": {
        "id": "999BTD2hJ73q"
      },
      "source": [
        "____________________________________________![image.png](attachment:85fe41cf-7053-41c8-af99-29afb236745b.png)"
      ]
    },
    {
      "cell_type": "code",
      "execution_count": 32,
      "metadata": {
        "id": "UPe4ooa3J73q",
        "outputId": "94f0570e-019f-4a7d-fa27-fe0ec3be453a",
        "colab": {
          "base_uri": "https://localhost:8080/"
        }
      },
      "outputs": [
        {
          "output_type": "execute_result",
          "data": {
            "text/plain": [
              "array([[ 1.,  8.],\n",
              "       [27., 64.]])"
            ]
          },
          "metadata": {},
          "execution_count": 32
        }
      ],
      "source": [
        "x**3"
      ]
    },
    {
      "cell_type": "markdown",
      "metadata": {
        "id": "v5ZFuGqVJ73q"
      },
      "source": [
        "____________________________________________![image.png](attachment:e098f400-88dd-4718-a254-9bad8f1d50a8.png)"
      ]
    },
    {
      "cell_type": "code",
      "execution_count": 33,
      "metadata": {
        "id": "wqkJszHeJ73q",
        "colab": {
          "base_uri": "https://localhost:8080/"
        },
        "outputId": "a364e191-1a2f-45c4-9fb6-3ac2b58523fa"
      },
      "outputs": [
        {
          "output_type": "execute_result",
          "data": {
            "text/plain": [
              "array([[1.        , 0.5       ],\n",
              "       [0.33333333, 0.25      ]])"
            ]
          },
          "metadata": {},
          "execution_count": 33
        }
      ],
      "source": [
        "1/x"
      ]
    },
    {
      "cell_type": "code",
      "execution_count": null,
      "metadata": {
        "id": "pKY8_K9dJ73q",
        "outputId": "0cbb2c40-b8d1-4868-b5f2-3efa2df7fbcb"
      },
      "outputs": [
        {
          "data": {
            "text/plain": [
              "array([[1.        , 0.5       ],\n",
              "       [0.33333333, 0.25      ]])"
            ]
          },
          "execution_count": 69,
          "metadata": {},
          "output_type": "execute_result"
        }
      ],
      "source": []
    },
    {
      "cell_type": "code",
      "execution_count": null,
      "metadata": {
        "id": "HP1LpLz9J73q"
      },
      "outputs": [],
      "source": []
    },
    {
      "cell_type": "markdown",
      "metadata": {
        "id": "dUET_8SBJ73q"
      },
      "source": [
        "<html> <h3 style=\"color:blue;\"> Matrix Multiplication </h3> </html>"
      ]
    },
    {
      "cell_type": "code",
      "execution_count": null,
      "metadata": {
        "id": "FsLi3RWrJ73r"
      },
      "outputs": [],
      "source": [
        "# Note that the above was elementwise multiplication, not matrix multiplication.\n",
        "# To receive the matrix multiplication, we use the dot function."
      ]
    },
    {
      "cell_type": "markdown",
      "metadata": {
        "id": "ZCENHKwpJ73r"
      },
      "source": [
        "#### Now just press 'CTRL' and 'ENTER' keys on the next cell."
      ]
    },
    {
      "cell_type": "code",
      "execution_count": 34,
      "metadata": {
        "id": "ALvuoixkJ73r",
        "outputId": "2f72e974-75d4-49f6-cc08-df7adfd8900a",
        "colab": {
          "base_uri": "https://localhost:8080/"
        }
      },
      "outputs": [
        {
          "output_type": "stream",
          "name": "stdout",
          "text": [
            "[[1 2]\n",
            " [3 4]] \n",
            "\n",
            " [[5 6]\n",
            " [7 8]] \n",
            "\n",
            " [ 9 10] \n",
            "\n",
            " [11 12]\n"
          ]
        }
      ],
      "source": [
        "x = np.array([[1,2],[3,4]])\n",
        "y = np.array([[5,6],[7,8]])\n",
        "\n",
        "v = np.array([9,10])\n",
        "w = np.array([11, 12])\n",
        "print(x, '\\n\\n', y, '\\n\\n', v, '\\n\\n', w)"
      ]
    },
    {
      "cell_type": "markdown",
      "metadata": {
        "id": "zHov4aYhJ73r"
      },
      "source": [
        "![image.png](attachment:4775c518-47b9-4860-8f55-196766891597.png)"
      ]
    },
    {
      "cell_type": "markdown",
      "metadata": {
        "id": "yl18spy4J73r"
      },
      "source": [
        "____________________________________________![image.png](attachment:f04b0822-51b3-4ca0-9645-e930c515bb4b.png)"
      ]
    },
    {
      "cell_type": "code",
      "execution_count": 36,
      "metadata": {
        "id": "5TULbr0JJ73r",
        "colab": {
          "base_uri": "https://localhost:8080/"
        },
        "outputId": "ee36a210-e84b-4f9f-fbe9-31f4229e3167"
      },
      "outputs": [
        {
          "output_type": "stream",
          "name": "stdout",
          "text": [
            "219\n",
            "219\n"
          ]
        }
      ],
      "source": [
        "print(v.dot(w))\n",
        "print(np.dot(v, w))"
      ]
    },
    {
      "cell_type": "code",
      "execution_count": null,
      "metadata": {
        "id": "zHc7X8JtJ73r",
        "outputId": "6a2f789c-fb35-4026-e1ec-ddbb3aa42fb1"
      },
      "outputs": [
        {
          "name": "stdout",
          "output_type": "stream",
          "text": [
            "219\n",
            "219\n"
          ]
        }
      ],
      "source": []
    },
    {
      "cell_type": "markdown",
      "metadata": {
        "id": "v20SCZPpJ73r"
      },
      "source": [
        "![image.png](attachment:86e4646b-afd4-45a8-bca2-92656bfba0fb.png)"
      ]
    },
    {
      "cell_type": "markdown",
      "metadata": {
        "id": "_nDsW4AaJ73s"
      },
      "source": [
        "Watch this video carefully at **home** and remember how matrices are multiplied\n",
        "\n",
        "https://www.youtube.com/watch?v=2spTnAiQg4M\n"
      ]
    },
    {
      "cell_type": "markdown",
      "metadata": {
        "id": "wZdTmEirJ73s"
      },
      "source": [
        "____________________________________________![image.png](attachment:fd6fab27-ad50-469c-95af-88d37aa1565c.png)"
      ]
    },
    {
      "cell_type": "code",
      "execution_count": 37,
      "metadata": {
        "id": "IOCZvhqvJ73s",
        "colab": {
          "base_uri": "https://localhost:8080/"
        },
        "outputId": "3efeb023-6a4c-4c92-e16f-811fa64f559b"
      },
      "outputs": [
        {
          "output_type": "stream",
          "name": "stdout",
          "text": [
            "[29 67]\n",
            "\n",
            "\n",
            "[29 67]\n"
          ]
        }
      ],
      "source": [
        "print(x.dot(v))\n",
        "print('\\n')\n",
        "print(np.dot(x, v))"
      ]
    },
    {
      "cell_type": "code",
      "execution_count": null,
      "metadata": {
        "id": "osKW5wTjJ73s",
        "outputId": "f2dbbbff-e0fc-4abf-efa7-838570130a7f"
      },
      "outputs": [
        {
          "name": "stdout",
          "output_type": "stream",
          "text": [
            "[29 67]\n",
            "\n",
            "\n",
            "[29 67]\n"
          ]
        }
      ],
      "source": []
    },
    {
      "cell_type": "code",
      "execution_count": null,
      "metadata": {
        "id": "1I5f97beJ73s"
      },
      "outputs": [],
      "source": [
        "# an example of matrix multiplication:"
      ]
    },
    {
      "cell_type": "markdown",
      "metadata": {
        "id": "N_5hvUdFJ73s"
      },
      "source": [
        "![image.png](attachment:134eb75e-46f0-4059-a113-23d0eb1e4b03.png)"
      ]
    },
    {
      "cell_type": "markdown",
      "metadata": {
        "id": "lBU5K9WrJ73s"
      },
      "source": [
        "____________________________________________![image.png](attachment:88ed560c-87be-4ced-bf7e-e8f7f1c9d370.png)"
      ]
    },
    {
      "cell_type": "code",
      "execution_count": 38,
      "metadata": {
        "id": "J7gKtsmaJ73s",
        "colab": {
          "base_uri": "https://localhost:8080/"
        },
        "outputId": "0fb222af-598a-47d1-f9f5-ae9b6cc5dde9"
      },
      "outputs": [
        {
          "output_type": "stream",
          "name": "stdout",
          "text": [
            "[[19 22]\n",
            " [43 50]]\n",
            "\n",
            "\n",
            "[[19 22]\n",
            " [43 50]]\n"
          ]
        }
      ],
      "source": [
        "print(x.dot(y))\n",
        "print('\\n')\n",
        "print(np.dot(x, y))"
      ]
    },
    {
      "cell_type": "code",
      "execution_count": null,
      "metadata": {
        "id": "fXe5YHUoJ73s",
        "outputId": "927751d7-dafa-4515-c982-61ed1b2b3aa1"
      },
      "outputs": [
        {
          "name": "stdout",
          "output_type": "stream",
          "text": [
            "[[19 22]\n",
            " [43 50]]\n",
            "\n",
            "\n",
            "[[19 22]\n",
            " [43 50]]\n"
          ]
        }
      ],
      "source": []
    },
    {
      "cell_type": "code",
      "execution_count": null,
      "metadata": {
        "id": "BRLA0T8GJ73t"
      },
      "outputs": [],
      "source": []
    },
    {
      "cell_type": "markdown",
      "metadata": {
        "id": "yYUSWuxnJ73t"
      },
      "source": [
        "<html> <h3 style=\"color:blue;\"> Random number array generator </h3> </html>"
      ]
    },
    {
      "cell_type": "markdown",
      "metadata": {
        "id": "HTYHnwvtJ73t"
      },
      "source": [
        "____________________________________________![image.png](attachment:b66acf21-ce8f-41c8-bda0-8446e71611f6.png)"
      ]
    },
    {
      "cell_type": "code",
      "execution_count": 40,
      "metadata": {
        "id": "uceZlKZAJ73t",
        "colab": {
          "base_uri": "https://localhost:8080/"
        },
        "outputId": "30b4040e-fafd-4dc7-c8fb-b380c32d2d8f"
      },
      "outputs": [
        {
          "output_type": "execute_result",
          "data": {
            "text/plain": [
              "array([0.28044119, 0.49714339, 0.00453856, 0.32450524])"
            ]
          },
          "metadata": {},
          "execution_count": 40
        }
      ],
      "source": [
        "np.random.rand(4)"
      ]
    },
    {
      "cell_type": "code",
      "execution_count": null,
      "metadata": {
        "id": "kFkAc38bJ73t",
        "outputId": "ad2b5d12-98ed-44b0-e316-81e25db25d42"
      },
      "outputs": [
        {
          "data": {
            "text/plain": [
              "array([0.39530672, 0.94341135, 0.7134285 , 0.41761022])"
            ]
          },
          "execution_count": 79,
          "metadata": {},
          "output_type": "execute_result"
        }
      ],
      "source": []
    },
    {
      "cell_type": "markdown",
      "metadata": {
        "id": "1tlYKuHZJ73t"
      },
      "source": [
        "____________________________________________![image.png](attachment:d502bc7f-c406-47cf-86b0-858b69aa0feb.png)"
      ]
    },
    {
      "cell_type": "code",
      "execution_count": 41,
      "metadata": {
        "id": "A__WfhoZJ73t",
        "colab": {
          "base_uri": "https://localhost:8080/"
        },
        "outputId": "ae1b1a9b-75d8-40fb-8fb5-62d92457138f"
      },
      "outputs": [
        {
          "output_type": "execute_result",
          "data": {
            "text/plain": [
              "array([[0.49192308, 0.70381786, 0.65337458, 0.53230362],\n",
              "       [0.78066057, 0.25232134, 0.91530074, 0.34611774],\n",
              "       [0.72783179, 0.49737551, 0.45769979, 0.59274735],\n",
              "       [0.28678209, 0.79161719, 0.6127652 , 0.56489329]])"
            ]
          },
          "metadata": {},
          "execution_count": 41
        }
      ],
      "source": [
        "np.random.rand(4,4)"
      ]
    },
    {
      "cell_type": "code",
      "execution_count": null,
      "metadata": {
        "id": "RPRTvsvnJ73t",
        "outputId": "7e04bf21-db2a-4024-80e2-ab036d6abd03"
      },
      "outputs": [
        {
          "data": {
            "text/plain": [
              "array([[0.12647714, 0.37823272, 0.7573721 , 0.11737587],\n",
              "       [0.0020701 , 0.8499101 , 0.93522796, 0.60747499],\n",
              "       [0.27604771, 0.85404114, 0.38664039, 0.58206828],\n",
              "       [0.60229498, 0.18029854, 0.02289854, 0.41117278]])"
            ]
          },
          "execution_count": 84,
          "metadata": {},
          "output_type": "execute_result"
        }
      ],
      "source": []
    },
    {
      "cell_type": "code",
      "execution_count": null,
      "metadata": {
        "id": "gGLEyPZJJ73t"
      },
      "outputs": [],
      "source": []
    },
    {
      "cell_type": "markdown",
      "metadata": {
        "id": "BRDbNXvuJ73t"
      },
      "source": [
        "##### Normal distribution (Gaussian distribution)"
      ]
    },
    {
      "cell_type": "markdown",
      "metadata": {
        "id": "rBiZ3_zPJ73t"
      },
      "source": [
        "![image.png](attachment:2a8d6d99-a743-406b-af0b-bded80612de1.png)"
      ]
    },
    {
      "cell_type": "markdown",
      "metadata": {
        "id": "phpeCGrrJ73u"
      },
      "source": [
        "______________________![image.png](attachment:197e75d0-c7df-4e33-bbef-34d556c86be8.png)"
      ]
    },
    {
      "cell_type": "code",
      "execution_count": 43,
      "metadata": {
        "id": "8P9kZoS9J73u",
        "colab": {
          "base_uri": "https://localhost:8080/"
        },
        "outputId": "c52d1b86-4eff-478f-f457-82d644cc8886"
      },
      "outputs": [
        {
          "output_type": "execute_result",
          "data": {
            "text/plain": [
              "array([[-1.50353276,  0.72993961, -0.53305574,  0.58031383],\n",
              "       [ 1.05612595,  0.08341218, -1.24250697,  0.36157037],\n",
              "       [ 1.02923088, -1.51526053, -1.66956229,  0.51824995],\n",
              "       [ 0.78897335, -0.64940357,  0.63464751,  1.71806773]])"
            ]
          },
          "metadata": {},
          "execution_count": 43
        }
      ],
      "source": [
        "np.random.randn(4,4)"
      ]
    },
    {
      "cell_type": "code",
      "execution_count": null,
      "metadata": {
        "id": "JYOwtQnIJ73u",
        "outputId": "b71b8190-7936-46f1-c08c-bc9c423f8dbd"
      },
      "outputs": [
        {
          "data": {
            "text/plain": [
              "array([[ 1.81518269, -2.4213843 , -0.59131028, -0.21626991],\n",
              "       [-0.5849672 ,  1.11994527, -0.56770557, -0.82824582],\n",
              "       [-0.55215755,  0.58089468, -1.41957238,  1.32710565],\n",
              "       [-0.90394077, -0.10972108, -0.84841308,  0.09323056]])"
            ]
          },
          "execution_count": 94,
          "metadata": {},
          "output_type": "execute_result"
        }
      ],
      "source": []
    },
    {
      "cell_type": "markdown",
      "metadata": {
        "id": "jP0C60d6J73u"
      },
      "source": [
        "____________________________________________![image.png](attachment:cd9a9f30-f9b9-42fb-8243-ddb743ee01c3.png)"
      ]
    },
    {
      "cell_type": "code",
      "execution_count": 44,
      "metadata": {
        "id": "3EERoWAlJ73u",
        "colab": {
          "base_uri": "https://localhost:8080/"
        },
        "outputId": "9ce6498f-c246-483f-adf2-1588da708079"
      },
      "outputs": [
        {
          "output_type": "execute_result",
          "data": {
            "text/plain": [
              "31"
            ]
          },
          "metadata": {},
          "execution_count": 44
        }
      ],
      "source": [
        "np.random.randint(1,39)"
      ]
    },
    {
      "cell_type": "code",
      "execution_count": null,
      "metadata": {
        "id": "baCfcv5FJ73u",
        "outputId": "bdf8c2b2-9d40-4989-90f4-eaa9d923e513"
      },
      "outputs": [
        {
          "data": {
            "text/plain": [
              "32"
            ]
          },
          "execution_count": 105,
          "metadata": {},
          "output_type": "execute_result"
        }
      ],
      "source": []
    },
    {
      "cell_type": "markdown",
      "metadata": {
        "id": "D1JQGSdsJ73u"
      },
      "source": [
        "____________________________________________![image.png](attachment:998bb937-89a8-416e-99da-0109fb725b6e.png)"
      ]
    },
    {
      "cell_type": "code",
      "execution_count": 45,
      "metadata": {
        "id": "2GJcfjH4J73v",
        "colab": {
          "base_uri": "https://localhost:8080/"
        },
        "outputId": "d4e51c3d-85b2-404c-944e-9a979a670b1b"
      },
      "outputs": [
        {
          "output_type": "execute_result",
          "data": {
            "text/plain": [
              "array([37,  1, 21, 32, 32, 36, 32, 24, 20, 18, 33,  6, 28, 35,  4])"
            ]
          },
          "metadata": {},
          "execution_count": 45
        }
      ],
      "source": [
        "np.random.randint(1,39,15)"
      ]
    },
    {
      "cell_type": "code",
      "execution_count": null,
      "metadata": {
        "id": "AXBmK2R3J73v",
        "outputId": "4501dac8-3217-4096-b5e5-6e5ec2e4a639"
      },
      "outputs": [
        {
          "data": {
            "text/plain": [
              "array([113, 180, 139, 142,  35, 135,   6, 120,  17,  26,   4, 154, 173,\n",
              "       164,  34])"
            ]
          },
          "execution_count": 110,
          "metadata": {},
          "output_type": "execute_result"
        }
      ],
      "source": []
    },
    {
      "cell_type": "code",
      "execution_count": null,
      "metadata": {
        "id": "zC5PSHIHJ73v"
      },
      "outputs": [],
      "source": []
    },
    {
      "cell_type": "markdown",
      "metadata": {
        "id": "_iR634ySJ73v"
      },
      "source": [
        "<html> <h3 style=\"color:blue;\"> Reshape </h3> </html>\n",
        "\n",
        "The shape (dimensions) of the array can be changed using the reshape() method\n",
        "This returns an array containing the same data with a new shape."
      ]
    },
    {
      "cell_type": "markdown",
      "metadata": {
        "id": "VvuIyclrJ73v"
      },
      "source": [
        "____________________________________________![image.png](attachment:288fc1d4-3930-4e62-8ec9-63be664670c3.png)"
      ]
    },
    {
      "cell_type": "code",
      "execution_count": 55,
      "metadata": {
        "id": "PWSe1imWJ73v",
        "colab": {
          "base_uri": "https://localhost:8080/"
        },
        "outputId": "006ddcf9-8855-4e2b-ce56-06980ffbdb80"
      },
      "outputs": [
        {
          "output_type": "execute_result",
          "data": {
            "text/plain": [
              "array([ 0,  1,  2,  3,  4,  5,  6,  7,  8,  9, 10, 11, 12, 13, 14])"
            ]
          },
          "metadata": {},
          "execution_count": 55
        }
      ],
      "source": [
        "p = np.arange(0,15)\n",
        "p"
      ]
    },
    {
      "cell_type": "code",
      "execution_count": null,
      "metadata": {
        "id": "6t4zmqAcJ73v",
        "outputId": "56bae12f-bbed-4c90-8d23-987d73547f7f"
      },
      "outputs": [
        {
          "data": {
            "text/plain": [
              "array([ 0,  1,  2,  3,  4,  5,  6,  7,  8,  9, 10, 11, 12, 13, 14])"
            ]
          },
          "execution_count": 117,
          "metadata": {},
          "output_type": "execute_result"
        }
      ],
      "source": []
    },
    {
      "cell_type": "markdown",
      "metadata": {
        "id": "_MtWkJ63J73w"
      },
      "source": [
        "____________________________________________![image.png](attachment:3c35d8d2-17f4-43bc-a513-155af5c09df6.png)"
      ]
    },
    {
      "cell_type": "code",
      "execution_count": 56,
      "metadata": {
        "id": "qOAh9wvvJ73w",
        "colab": {
          "base_uri": "https://localhost:8080/"
        },
        "outputId": "e8036a95-7fee-4a32-874a-3bf52cd5c9a7"
      },
      "outputs": [
        {
          "output_type": "execute_result",
          "data": {
            "text/plain": [
              "array([[ 0,  1,  2,  3,  4],\n",
              "       [ 5,  6,  7,  8,  9],\n",
              "       [10, 11, 12, 13, 14]])"
            ]
          },
          "metadata": {},
          "execution_count": 56
        }
      ],
      "source": [
        "p = p.reshape(3,5)\n",
        "p"
      ]
    },
    {
      "cell_type": "code",
      "execution_count": null,
      "metadata": {
        "id": "rnTcEVnqJ73w",
        "outputId": "43575bd4-471f-460f-fb79-0b13cabbf950"
      },
      "outputs": [
        {
          "data": {
            "text/plain": [
              "array([[ 0,  1,  2,  3,  4],\n",
              "       [ 5,  6,  7,  8,  9],\n",
              "       [10, 11, 12, 13, 14]])"
            ]
          },
          "execution_count": 122,
          "metadata": {},
          "output_type": "execute_result"
        }
      ],
      "source": []
    },
    {
      "cell_type": "markdown",
      "metadata": {
        "id": "Tiqm6vzmJ73w"
      },
      "source": [
        "____________________________________________![image.png](attachment:2ca2045d-3dba-4c89-aeac-8176014a3cdf.png)"
      ]
    },
    {
      "cell_type": "code",
      "execution_count": 57,
      "metadata": {
        "id": "xmOLw_MJJ73w",
        "colab": {
          "base_uri": "https://localhost:8080/"
        },
        "outputId": "a1fe9520-81b2-482a-aa87-554609b4b9b4"
      },
      "outputs": [
        {
          "output_type": "execute_result",
          "data": {
            "text/plain": [
              "array([[ 0,  1,  2,  3],\n",
              "       [ 4,  5,  6,  7],\n",
              "       [ 8,  9, 10, 11]])"
            ]
          },
          "metadata": {},
          "execution_count": 57
        }
      ],
      "source": [
        "s = np.arange(12).reshape(3,4)\n",
        "s\n"
      ]
    },
    {
      "cell_type": "code",
      "execution_count": null,
      "metadata": {
        "id": "euJNLOrDJ73w",
        "outputId": "c4c5d85d-4d02-4c8c-917b-18557555c12e"
      },
      "outputs": [
        {
          "data": {
            "text/plain": [
              "array([[ 0,  1,  2,  3],\n",
              "       [ 4,  5,  6,  7],\n",
              "       [ 8,  9, 10, 11]])"
            ]
          },
          "execution_count": 196,
          "metadata": {},
          "output_type": "execute_result"
        }
      ],
      "source": []
    },
    {
      "cell_type": "code",
      "execution_count": null,
      "metadata": {
        "id": "a5J3ih0eJ73w"
      },
      "outputs": [],
      "source": []
    },
    {
      "cell_type": "markdown",
      "metadata": {
        "id": "nnfK5i8IJ73x"
      },
      "source": [
        "##### Transposing a Matrix"
      ]
    },
    {
      "cell_type": "markdown",
      "metadata": {
        "id": "48onEc4bJ73x"
      },
      "source": [
        "![image.png](attachment:ae787138-a47b-4140-9bec-99a532903bbd.png)"
      ]
    },
    {
      "cell_type": "markdown",
      "metadata": {
        "id": "RzseetqvJ73x"
      },
      "source": [
        "____________________________________________![image.png](attachment:1e9d411f-d355-4233-9180-639e7659446d.png)"
      ]
    },
    {
      "cell_type": "code",
      "execution_count": 59,
      "metadata": {
        "id": "hgaPsX-1J73x",
        "colab": {
          "base_uri": "https://localhost:8080/"
        },
        "outputId": "1d024c76-d510-40d5-ce2f-2220aa7baca1"
      },
      "outputs": [
        {
          "output_type": "stream",
          "name": "stdout",
          "text": [
            "[[ 0  5 10]\n",
            " [ 1  6 11]\n",
            " [ 2  7 12]\n",
            " [ 3  8 13]\n",
            " [ 4  9 14]]\n"
          ]
        }
      ],
      "source": [
        "print(p.T)"
      ]
    },
    {
      "cell_type": "code",
      "execution_count": null,
      "metadata": {
        "id": "0H9Xkgc4J73x",
        "outputId": "515da629-52fd-463f-af51-f124ddc46ca1"
      },
      "outputs": [
        {
          "name": "stdout",
          "output_type": "stream",
          "text": [
            "[[ 0  5 10]\n",
            " [ 1  6 11]\n",
            " [ 2  7 12]\n",
            " [ 3  8 13]\n",
            " [ 4  9 14]]\n"
          ]
        }
      ],
      "source": []
    },
    {
      "cell_type": "code",
      "source": [
        "k = np.empty_like(p)\n",
        "k"
      ],
      "metadata": {
        "colab": {
          "base_uri": "https://localhost:8080/"
        },
        "id": "lKIi4KUZYsXW",
        "outputId": "52e2c7c4-5478-42dd-8871-99115f777d1a"
      },
      "execution_count": 63,
      "outputs": [
        {
          "output_type": "execute_result",
          "data": {
            "text/plain": [
              "array([[           675331440,                    0,   283726776529416960,\n",
              "           63941002842407169,   540434201603011088],\n",
              "       [ 1153186607186054391, -1002612741142078463,    75198843175637520,\n",
              "         5976857252611158543,   288600852262888449],\n",
              "       [-9147089019480899060,   933099447696093228,          79224701186,\n",
              "          732160869205082112,                  128]])"
            ]
          },
          "metadata": {},
          "execution_count": 63
        }
      ]
    },
    {
      "cell_type": "markdown",
      "metadata": {
        "id": "3_aNX-mEJ73x"
      },
      "source": [
        "____________________________________________![image.png](attachment:f5b163a3-7ce4-4100-942b-efc07e220eed.png)"
      ]
    },
    {
      "cell_type": "markdown",
      "metadata": {
        "id": "HDfc5AY-J73x"
      },
      "source": [
        "The command does not create an \"empty\" matrix in the sense of being filled with zeros or having no values. Instead, it returns a new array with the same shape and data type as p, but without initialising the elements — meaning the array elements contain random values that happened to be in memory at the time of allocation"
      ]
    },
    {
      "cell_type": "code",
      "execution_count": 64,
      "metadata": {
        "id": "Q_rh6ptpJ73y",
        "colab": {
          "base_uri": "https://localhost:8080/"
        },
        "outputId": "1cabd230-12c8-43dd-acd6-c18a8f758d7e"
      },
      "outputs": [
        {
          "output_type": "execute_result",
          "data": {
            "text/plain": [
              "array([[    136623030586704,           696413600, 6583419459140309228,\n",
              "            136622092007248,     136622092007248],\n",
              "       [1824842677722135363,     136622093144432,     136622093144432,\n",
              "        5072977450798081362,     136622093155888],\n",
              "       [    136622093155888, 3741690466136974257,     136622093155120,\n",
              "            136622093155120,                 128]])"
            ]
          },
          "metadata": {},
          "execution_count": 64
        }
      ],
      "source": [
        "k = np.empty_like(p)\n",
        "k"
      ]
    },
    {
      "cell_type": "code",
      "execution_count": null,
      "metadata": {
        "id": "K9R1mOOuJ73y",
        "outputId": "f6b3a433-13f3-4553-9de4-78b2d940cd66"
      },
      "outputs": [
        {
          "data": {
            "text/plain": [
              "array([[3801155, 5570652, 6619251, 7536754, 7733340],\n",
              "       [7602281, 7077985, 4259932, 7340144, 6357060],\n",
              "       [6357108, 4980828, 6488175, 7077985, 5505116]])"
            ]
          },
          "execution_count": 141,
          "metadata": {},
          "output_type": "execute_result"
        }
      ],
      "source": []
    },
    {
      "cell_type": "markdown",
      "metadata": {
        "id": "gJAhwOYPJ73y"
      },
      "source": [
        "____________________________________________![image.png](attachment:4bc158d4-9ab4-45cb-8f92-48339dd3e6e5.png)"
      ]
    },
    {
      "cell_type": "code",
      "execution_count": 65,
      "metadata": {
        "id": "dkmOEzJdJ73y",
        "colab": {
          "base_uri": "https://localhost:8080/"
        },
        "outputId": "fb6f59bd-1cd8-443e-e2c7-f56333e01a42"
      },
      "outputs": [
        {
          "output_type": "stream",
          "name": "stdout",
          "text": [
            "[1 0 1] \n",
            "\n",
            "[[1 0 1]\n",
            " [1 0 1]\n",
            " [1 0 1]\n",
            " [1 0 1]]\n"
          ]
        }
      ],
      "source": [
        "v = np.array([1,0,1])\n",
        "print(v,'\\n')\n",
        "vv = np.tile(v, (4, 1))\n",
        "print(vv)"
      ]
    },
    {
      "cell_type": "code",
      "execution_count": null,
      "metadata": {
        "id": "xjHIiiF1J73y",
        "outputId": "16b95ca1-7f42-4c07-8a24-0fcaba62babb"
      },
      "outputs": [
        {
          "name": "stdout",
          "output_type": "stream",
          "text": [
            "[1 0 1] \n",
            "\n",
            "[[1 0 1]\n",
            " [1 0 1]\n",
            " [1 0 1]\n",
            " [1 0 1]]\n"
          ]
        }
      ],
      "source": []
    },
    {
      "cell_type": "code",
      "execution_count": null,
      "metadata": {
        "id": "noMGyhtaJ73y"
      },
      "outputs": [],
      "source": []
    },
    {
      "cell_type": "markdown",
      "metadata": {
        "id": "iQ9nSBZ9J73y"
      },
      "source": [
        "<html> <h3 style=\"color:blue;\"> Functions </h3> </html>"
      ]
    },
    {
      "cell_type": "markdown",
      "metadata": {
        "id": "KjFqxKmxJ73y"
      },
      "source": [
        "____________________________________________![image.png](attachment:bf6cf184-57c9-4dd4-bfb2-7def73549040.png)"
      ]
    },
    {
      "cell_type": "code",
      "execution_count": 66,
      "metadata": {
        "id": "2xJq6TK5J73y",
        "colab": {
          "base_uri": "https://localhost:8080/"
        },
        "outputId": "575a50bf-b6a1-406c-999f-003d71f153b0"
      },
      "outputs": [
        {
          "output_type": "execute_result",
          "data": {
            "text/plain": [
              "array([[ 1, 88,  3,  4],\n",
              "       [ 5,  6,  7,  8],\n",
              "       [ 9, 10, 11, 12]])"
            ]
          },
          "metadata": {},
          "execution_count": 66
        }
      ],
      "source": [
        "a"
      ]
    },
    {
      "cell_type": "code",
      "execution_count": null,
      "metadata": {
        "id": "f5rJjilAJ73y",
        "outputId": "e57038ba-347c-4a6c-84a5-71f3d7d4b682"
      },
      "outputs": [
        {
          "data": {
            "text/plain": [
              "array([[ 1, 88,  3,  4],\n",
              "       [ 5,  6,  7,  8],\n",
              "       [ 9, 10, 11, 12]])"
            ]
          },
          "execution_count": 153,
          "metadata": {},
          "output_type": "execute_result"
        }
      ],
      "source": []
    },
    {
      "cell_type": "code",
      "execution_count": null,
      "metadata": {
        "id": "BkHISTv0J73y"
      },
      "outputs": [],
      "source": [
        "# Numpy provides many useful functions for performing computations on arrays; one of the most useful is sum:"
      ]
    },
    {
      "cell_type": "markdown",
      "metadata": {
        "id": "WAN_lQ6TJ73z"
      },
      "source": [
        "____________________________________________![image.png](attachment:a7779684-6a28-49f0-9c2f-4fab2a79a47e.png)"
      ]
    },
    {
      "cell_type": "code",
      "execution_count": 67,
      "metadata": {
        "id": "SxapBnCJJ73z",
        "colab": {
          "base_uri": "https://localhost:8080/"
        },
        "outputId": "22beb1aa-b615-4bea-ecab-a2a6df59fabd"
      },
      "outputs": [
        {
          "output_type": "stream",
          "name": "stdout",
          "text": [
            "164\n"
          ]
        }
      ],
      "source": [
        "print(np.sum(a))"
      ]
    },
    {
      "cell_type": "code",
      "execution_count": null,
      "metadata": {
        "id": "def8oUCQJ73z",
        "outputId": "3679ef60-a4af-4b74-b76e-907afd3f7494"
      },
      "outputs": [
        {
          "name": "stdout",
          "output_type": "stream",
          "text": [
            "164\n"
          ]
        }
      ],
      "source": []
    },
    {
      "cell_type": "markdown",
      "metadata": {
        "id": "upnfZfkzJ73z"
      },
      "source": [
        "____________________________________________![image.png](attachment:26e7377d-c022-4e06-8ade-0f49b2759669.png)"
      ]
    },
    {
      "cell_type": "code",
      "execution_count": 71,
      "metadata": {
        "id": "bToqucNeJ73z",
        "colab": {
          "base_uri": "https://localhost:8080/"
        },
        "outputId": "8051bab4-e6fb-4737-9083-531ab43d84ad"
      },
      "outputs": [
        {
          "output_type": "stream",
          "name": "stdout",
          "text": [
            "[ 15 104  21  24]\n"
          ]
        }
      ],
      "source": [
        "print(np.sum(a, axis=0))"
      ]
    },
    {
      "cell_type": "code",
      "execution_count": null,
      "metadata": {
        "id": "IJtxdwwhJ73z",
        "outputId": "0118e397-a26e-4645-e7e2-91462bea38b3"
      },
      "outputs": [
        {
          "name": "stdout",
          "output_type": "stream",
          "text": [
            "[ 15 104  21  24]\n"
          ]
        }
      ],
      "source": []
    },
    {
      "cell_type": "markdown",
      "metadata": {
        "id": "4wethOq5J73z"
      },
      "source": [
        "____________________________________________![image.png](attachment:e7c61121-ac0a-43d5-a824-f12b26e99c73.png)"
      ]
    },
    {
      "cell_type": "code",
      "execution_count": 72,
      "metadata": {
        "id": "ukxlsHRrJ730",
        "colab": {
          "base_uri": "https://localhost:8080/"
        },
        "outputId": "abc58ca1-0e84-455b-c4dd-a50e5bb63372"
      },
      "outputs": [
        {
          "output_type": "stream",
          "name": "stdout",
          "text": [
            "[96 26 42]\n"
          ]
        }
      ],
      "source": [
        "print(np.sum(a, axis=1))\n"
      ]
    },
    {
      "cell_type": "code",
      "execution_count": null,
      "metadata": {
        "id": "17mDRnGOJ730",
        "outputId": "df55bfba-ab93-4334-a3b7-6b0eff661c9a"
      },
      "outputs": [
        {
          "name": "stdout",
          "output_type": "stream",
          "text": [
            "[96 26 42]\n"
          ]
        }
      ],
      "source": []
    },
    {
      "cell_type": "markdown",
      "metadata": {
        "id": "FZdDwA3bJ730"
      },
      "source": [
        "____________________________________________![image.png](attachment:0d80160c-983f-4bcf-9a16-6ce6911f9d4e.png)"
      ]
    },
    {
      "cell_type": "code",
      "execution_count": 73,
      "metadata": {
        "id": "8pajKMQZJ730",
        "colab": {
          "base_uri": "https://localhost:8080/"
        },
        "outputId": "8059aaba-9a40-45e0-9a36-b780485eb897"
      },
      "outputs": [
        {
          "output_type": "execute_result",
          "data": {
            "text/plain": [
              "np.int64(88)"
            ]
          },
          "metadata": {},
          "execution_count": 73
        }
      ],
      "source": [
        "a.max()"
      ]
    },
    {
      "cell_type": "code",
      "execution_count": null,
      "metadata": {
        "id": "hoMkBa2DJ730",
        "outputId": "79c04b78-324b-40d2-932d-047bec055e61"
      },
      "outputs": [
        {
          "data": {
            "text/plain": [
              "88"
            ]
          },
          "execution_count": 173,
          "metadata": {},
          "output_type": "execute_result"
        }
      ],
      "source": []
    },
    {
      "cell_type": "markdown",
      "metadata": {
        "id": "z-H8RUzoJ730"
      },
      "source": [
        "____________________________________________![image.png](attachment:16c464a1-f29f-4bd6-8de8-e86eab73c66d.png)"
      ]
    },
    {
      "cell_type": "code",
      "execution_count": 74,
      "metadata": {
        "id": "2kCnQnDLJ730",
        "colab": {
          "base_uri": "https://localhost:8080/"
        },
        "outputId": "869dfd0a-130f-4f81-93f7-2b332062f7bc"
      },
      "outputs": [
        {
          "output_type": "execute_result",
          "data": {
            "text/plain": [
              "np.int64(1)"
            ]
          },
          "metadata": {},
          "execution_count": 74
        }
      ],
      "source": [
        "a.min()"
      ]
    },
    {
      "cell_type": "code",
      "execution_count": null,
      "metadata": {
        "id": "Qqeza0hAJ730",
        "outputId": "fd0b8895-e4e4-464d-8dda-0693e98d0e21"
      },
      "outputs": [
        {
          "data": {
            "text/plain": [
              "1"
            ]
          },
          "execution_count": 176,
          "metadata": {},
          "output_type": "execute_result"
        }
      ],
      "source": []
    },
    {
      "cell_type": "markdown",
      "metadata": {
        "id": "YSilVrGWJ731"
      },
      "source": [
        "____________________________________________![image.png](attachment:7ed980b3-88aa-43ee-a31d-3d664d24d492.png)"
      ]
    },
    {
      "cell_type": "code",
      "execution_count": 75,
      "metadata": {
        "id": "RbBnh87DJ731",
        "colab": {
          "base_uri": "https://localhost:8080/"
        },
        "outputId": "030a82af-74d1-4d2d-fb53-d45c6137cb3e"
      },
      "outputs": [
        {
          "output_type": "execute_result",
          "data": {
            "text/plain": [
              "np.int64(1)"
            ]
          },
          "metadata": {},
          "execution_count": 75
        }
      ],
      "source": [
        "a.argmax()"
      ]
    },
    {
      "cell_type": "code",
      "execution_count": null,
      "metadata": {
        "id": "PGVQUmQuJ731",
        "outputId": "0fe3211f-b589-437b-b400-40b869270fc6"
      },
      "outputs": [
        {
          "data": {
            "text/plain": [
              "1"
            ]
          },
          "execution_count": 184,
          "metadata": {},
          "output_type": "execute_result"
        }
      ],
      "source": []
    },
    {
      "cell_type": "markdown",
      "metadata": {
        "id": "XH7waXVVJ731"
      },
      "source": [
        "____________________________________________![image.png](attachment:7ca34411-c78a-4d05-8f4b-64459220ad88.png)"
      ]
    },
    {
      "cell_type": "code",
      "execution_count": 76,
      "metadata": {
        "id": "N4GKTzi5J731",
        "colab": {
          "base_uri": "https://localhost:8080/"
        },
        "outputId": "1a56beee-f7d6-4c5b-9c55-447376867957"
      },
      "outputs": [
        {
          "output_type": "execute_result",
          "data": {
            "text/plain": [
              "np.int64(0)"
            ]
          },
          "metadata": {},
          "execution_count": 76
        }
      ],
      "source": [
        "a.argmin()"
      ]
    },
    {
      "cell_type": "code",
      "execution_count": null,
      "metadata": {
        "id": "3H93SO7aJ731",
        "outputId": "199b406c-2a41-4ce6-9a05-5a8412ab0003"
      },
      "outputs": [
        {
          "data": {
            "text/plain": [
              "0"
            ]
          },
          "execution_count": 188,
          "metadata": {},
          "output_type": "execute_result"
        }
      ],
      "source": []
    },
    {
      "cell_type": "code",
      "execution_count": null,
      "metadata": {
        "id": "890n7q3xJ731"
      },
      "outputs": [],
      "source": []
    },
    {
      "cell_type": "markdown",
      "metadata": {
        "id": "_93xEbPrJ731"
      },
      "source": [
        "<html> <h3 style=\"color:blue;\"> Shape </h3> </html>"
      ]
    },
    {
      "cell_type": "markdown",
      "metadata": {
        "id": "eRpCnDCuJ731"
      },
      "source": [
        "The size of a Numpy array can be retrieved using the attribute named \"shape\". Please note it is not a method. Attribute does not use \"()\" when evoked."
      ]
    },
    {
      "cell_type": "markdown",
      "metadata": {
        "id": "aPAqs8zxJ731"
      },
      "source": [
        "____________________________________________![image.png](attachment:c1e69ea3-9843-4361-87d3-39c77f8936e4.png)"
      ]
    },
    {
      "cell_type": "code",
      "execution_count": 78,
      "metadata": {
        "id": "ZKXLPxr1J732",
        "colab": {
          "base_uri": "https://localhost:8080/"
        },
        "outputId": "17a9728c-e3fa-43f4-8afc-a68ddd156878"
      },
      "outputs": [
        {
          "output_type": "stream",
          "name": "stdout",
          "text": [
            "[0 1 2 3 4 5 6 7 8 9]\n",
            "(10,)\n"
          ]
        }
      ],
      "source": [
        "arr = np.arange(10)\n",
        "print(arr)\n",
        "print(arr.shape)"
      ]
    },
    {
      "cell_type": "code",
      "execution_count": null,
      "metadata": {
        "id": "xLcmRQOiJ732",
        "outputId": "9e503218-e440-4541-8dfc-c130db640e80"
      },
      "outputs": [
        {
          "name": "stdout",
          "output_type": "stream",
          "text": [
            "[0 1 2 3 4 5 6 7 8 9]\n",
            "(10,)\n"
          ]
        }
      ],
      "source": []
    },
    {
      "cell_type": "markdown",
      "metadata": {
        "id": "lqXUt0VXJ732"
      },
      "source": [
        "____________________________________________![image.png](attachment:53dde3eb-9adf-400d-9d8b-e94692a80ef5.png)"
      ]
    },
    {
      "cell_type": "code",
      "execution_count": 79,
      "metadata": {
        "id": "6fksGtYxJ732",
        "outputId": "5f093f14-7f3a-4d77-bd15-d372d455a3ea",
        "colab": {
          "base_uri": "https://localhost:8080/"
        }
      },
      "outputs": [
        {
          "output_type": "stream",
          "name": "stdout",
          "text": [
            "[[ 1 88  3  4]\n",
            " [ 5  6  7  8]\n",
            " [ 9 10 11 12]]\n",
            "(3, 4)\n"
          ]
        }
      ],
      "source": [
        "print(a)\n",
        "print(a.shape)"
      ]
    },
    {
      "cell_type": "markdown",
      "metadata": {
        "id": "3v3pRYkcJ732"
      },
      "source": [
        "The shape of an array can be changed with various commands. Note that the following three commands all return a modified array, but do not change the original array:"
      ]
    },
    {
      "cell_type": "markdown",
      "metadata": {
        "id": "9-ZZID9OJ732"
      },
      "source": [
        "____________________________________________![image.png](attachment:d481818b-d0c0-4c0b-8443-2369390cc1fa.png)"
      ]
    },
    {
      "cell_type": "code",
      "execution_count": 80,
      "metadata": {
        "id": "YZn9IQM1J732",
        "colab": {
          "base_uri": "https://localhost:8080/"
        },
        "outputId": "819c38f8-3415-4ace-c48e-377141752a77"
      },
      "outputs": [
        {
          "output_type": "execute_result",
          "data": {
            "text/plain": [
              "array([ 1, 88,  3,  4,  5,  6,  7,  8,  9, 10, 11, 12])"
            ]
          },
          "metadata": {},
          "execution_count": 80
        }
      ],
      "source": [
        "a.ravel()"
      ]
    },
    {
      "cell_type": "code",
      "execution_count": null,
      "metadata": {
        "id": "yyESZUzmJ732",
        "outputId": "692c0660-0eae-4940-b9e1-d06a22d8de9b"
      },
      "outputs": [
        {
          "data": {
            "text/plain": [
              "array([ 1, 88,  3,  4,  5,  6,  7,  8,  9, 10, 11, 12])"
            ]
          },
          "execution_count": 244,
          "metadata": {},
          "output_type": "execute_result"
        }
      ],
      "source": []
    },
    {
      "cell_type": "markdown",
      "metadata": {
        "id": "oayLgOz5J732"
      },
      "source": [
        "____________________________________________![image.png](attachment:e9a52f60-26dc-4230-97e6-b877ed8e8bba.png)"
      ]
    },
    {
      "cell_type": "code",
      "execution_count": 81,
      "metadata": {
        "id": "QSXn08A2J732",
        "colab": {
          "base_uri": "https://localhost:8080/"
        },
        "outputId": "e6a0827d-aff6-4397-f3a0-8f1f3c142937"
      },
      "outputs": [
        {
          "output_type": "execute_result",
          "data": {
            "text/plain": [
              "array([[ 1, 88],\n",
              "       [ 3,  4],\n",
              "       [ 5,  6],\n",
              "       [ 7,  8],\n",
              "       [ 9, 10],\n",
              "       [11, 12]])"
            ]
          },
          "metadata": {},
          "execution_count": 81
        }
      ],
      "source": [
        "a.reshape(6, 2)"
      ]
    },
    {
      "cell_type": "code",
      "execution_count": null,
      "metadata": {
        "id": "GqhxnbLEJ732",
        "outputId": "3cb09bc4-61d0-46e1-dcb5-b72c9133a569"
      },
      "outputs": [
        {
          "data": {
            "text/plain": [
              "array([[ 1, 88],\n",
              "       [ 3,  4],\n",
              "       [ 5,  6],\n",
              "       [ 7,  8],\n",
              "       [ 9, 10],\n",
              "       [11, 12]])"
            ]
          },
          "execution_count": 249,
          "metadata": {},
          "output_type": "execute_result"
        }
      ],
      "source": []
    },
    {
      "cell_type": "markdown",
      "metadata": {
        "id": "yZh32qprJ733"
      },
      "source": [
        "____________________________________________![image.png](attachment:4ac28c80-ba5d-4357-a3e7-6fba7fc3d9f4.png)"
      ]
    },
    {
      "cell_type": "code",
      "execution_count": 82,
      "metadata": {
        "id": "0KWCSQpJJ733",
        "colab": {
          "base_uri": "https://localhost:8080/"
        },
        "outputId": "d888199f-8cad-4447-dd75-def7c00ab9d8"
      },
      "outputs": [
        {
          "output_type": "stream",
          "name": "stdout",
          "text": [
            "(3, 4)\n",
            "(4, 3)\n"
          ]
        }
      ],
      "source": [
        "print(a.shape)\n",
        "print(a.T.shape)\n"
      ]
    },
    {
      "cell_type": "code",
      "execution_count": null,
      "metadata": {
        "id": "QCcnQEJMJ733",
        "outputId": "4bc1310c-b7f3-4446-aebd-f2c0779cc87c"
      },
      "outputs": [
        {
          "name": "stdout",
          "output_type": "stream",
          "text": [
            "(3, 4)\n",
            "(4, 3)\n"
          ]
        }
      ],
      "source": []
    },
    {
      "cell_type": "code",
      "execution_count": 86,
      "metadata": {
        "id": "5a_lZeReJ733",
        "colab": {
          "base_uri": "https://localhost:8080/"
        },
        "outputId": "1d1a5d90-d9dc-4ad6-8483-02a104d8498a"
      },
      "outputs": [
        {
          "output_type": "stream",
          "name": "stdout",
          "text": [
            "[[ 1]\n",
            " [88]\n",
            " [ 3]\n",
            " [ 4]\n",
            " [ 5]\n",
            " [ 6]\n",
            " [ 7]\n",
            " [ 8]\n",
            " [ 9]\n",
            " [10]\n",
            " [11]\n",
            " [12]]\n",
            "\n",
            "\n",
            "(12, 1)\n"
          ]
        }
      ],
      "source": [
        "a2 = a.reshape(12,1)\n",
        "print(a2)\n",
        "print('\\n')\n",
        "print(a2.shape)"
      ]
    },
    {
      "cell_type": "markdown",
      "metadata": {
        "id": "zhatCagLJ733"
      },
      "source": [
        "Change matrix a to **2-d** array with 1 column. Notice the two sets of brackets for a 2-d array with one column.\n",
        "\n",
        "Save it in another array.\n",
        "\n",
        "Check the shape attribute value."
      ]
    },
    {
      "cell_type": "markdown",
      "metadata": {
        "id": "C7_u8ZoRJ733"
      },
      "source": [
        "____________________________________________![image.png](attachment:a3063539-2ef1-4ae3-a392-e9baf8ab8ca3.png)"
      ]
    },
    {
      "cell_type": "code",
      "execution_count": 89,
      "metadata": {
        "id": "KaNINkc7J733",
        "colab": {
          "base_uri": "https://localhost:8080/"
        },
        "outputId": "5854188a-d302-41d5-cd90-0bf78eff3558"
      },
      "outputs": [
        {
          "output_type": "stream",
          "name": "stdout",
          "text": [
            "[[1]\n",
            " [2]\n",
            " [3]\n",
            " [4]\n",
            " [5]\n",
            " [6]]\n",
            "\n",
            "Shape of a2: (6, 1)\n"
          ]
        }
      ],
      "source": [
        "a = np.array([1,2,3,4,5,6])\n",
        "a2 = a.reshape(6, 1)\n",
        "\n",
        "print(a2)\n",
        "print(\"\\nShape of a2:\", a2.shape)"
      ]
    },
    {
      "cell_type": "code",
      "execution_count": null,
      "metadata": {
        "id": "0rTRpXwsJ733",
        "outputId": "4ebf38a7-050f-4a45-fda1-5e22aa0b29a5"
      },
      "outputs": [
        {
          "name": "stdout",
          "output_type": "stream",
          "text": [
            "[[ 1]\n",
            " [88]\n",
            " [ 3]\n",
            " [ 4]\n",
            " [ 5]\n",
            " [ 6]\n",
            " [ 7]\n",
            " [ 8]\n",
            " [ 9]\n",
            " [10]\n",
            " [11]\n",
            " [12]]\n",
            "\n",
            "\n",
            "(12, 1)\n"
          ]
        }
      ],
      "source": []
    },
    {
      "cell_type": "markdown",
      "metadata": {
        "id": "TFiDi-GYJ733"
      },
      "source": [
        "<html> <h3 style=\"font-style:italic; color:#FF0000;\"> (!) From the point of view of mathematics - this is a 1-d vector.\n",
        "However, in terms of Numpy, it is a 2-dimensional array.\n",
        "</h3> </html>"
      ]
    },
    {
      "cell_type": "code",
      "execution_count": null,
      "metadata": {
        "id": "c0k0A5ZfJ733"
      },
      "outputs": [],
      "source": []
    },
    {
      "cell_type": "markdown",
      "metadata": {
        "id": "GgETgBlqJ733"
      },
      "source": [
        "# Lab Logbook Requirement:"
      ]
    },
    {
      "cell_type": "markdown",
      "metadata": {
        "id": "PmBV3yhjJ734"
      },
      "source": [
        "<html> <h3 style=\"font-style:italic; color:blue;\">\n",
        "1) Create a vector using np.arange.\n",
        "\n",
        "Determine the number of the vector elements using the following method: Take the last two digits from your SID. It should be from 00 to 99. If this number is 10 or more, it becomes the required number of the vector elements. If it is less than 10, add 100 to your number.\n",
        "\n",
        "For example, if your SID is 2287467, and the last two digits are 67, which is greater than 10. The required number is 67. If your SID is 2287407, and the last two digits are 07, which is less than 10. The required number is 107.\n",
        "\n",
        "Then,\n",
        "\n",
        "2) Change matrix a to 2-d array with 1 row. Print the array.\n",
        "You should have the two sets of brackets for a 2-d array with one row.\n",
        "3) Save it in another array. Print the array.\n",
        "4) Check the shape attribute value.\n",
        "5) Add the code and result to your Lab Logbook\n",
        "</h3> </html>"
      ]
    },
    {
      "cell_type": "markdown",
      "metadata": {
        "id": "-QxgF_6MJ734"
      },
      "source": [
        "<html> <h3 style=\"color:red;\">\n",
        "NOTE: DON'T FORGET TO SAVE AND BACK UP YOUR COMPLETED JUPYTER NOTEBOOK AND LAB LOGBOOK ON GITHUB OR ONEDRIVE.\n",
        "</h3> </html>"
      ]
    },
    {
      "cell_type": "code",
      "execution_count": null,
      "metadata": {
        "id": "4vGCoERtJ734"
      },
      "outputs": [],
      "source": []
    }
  ],
  "metadata": {
    "kernelspec": {
      "display_name": "Python 3",
      "name": "python3"
    },
    "language_info": {
      "name": "python"
    },
    "colab": {
      "provenance": [],
      "gpuType": "T4"
    },
    "accelerator": "GPU"
  },
  "nbformat": 4,
  "nbformat_minor": 0
}